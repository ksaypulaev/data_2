{
 "cells": [
  {
   "cell_type": "markdown",
   "metadata": {},
   "source": [
    "# Notebook testing"
   ]
  },
  {
   "cell_type": "code",
   "execution_count": 15,
   "metadata": {},
   "outputs": [],
   "source": [
    "import numpy as np\n",
    "import pandas as pd\n",
    "csv_path = \"/Users/ksaypulaev/Desktop/utility/prog/python/data_2/countries.csv\"\n",
    "json_path = '/Users/ksaypulaev/Desktop/utility/prog/python/data_2/country_list.json'"
   ]
  },
  {
   "cell_type": "code",
   "execution_count": null,
   "metadata": {},
   "outputs": [],
   "source": [
    "a = [[1, 2], [3, 4]]\n",
    "b = np.array([[5, 6], [7, 8]])\n",
    "print(a)\n",
    "print(b)"
   ]
  },
  {
   "cell_type": "markdown",
   "metadata": {},
   "source": [
    "### Series type"
   ]
  },
  {
   "cell_type": "code",
   "execution_count": null,
   "metadata": {},
   "outputs": [],
   "source": [
    "my_series = pd.Series([\"USSR\", \"USA\", \"France\", \"Spain\", \"Colombia\"])\n",
    "print(my_series)"
   ]
  },
  {
   "cell_type": "code",
   "execution_count": 33,
   "metadata": {},
   "outputs": [
    {
     "name": "stdout",
     "output_type": "stream",
     "text": [
      "0    USSR\n",
      "1     USA\n",
      "dtype: object\n"
     ]
    }
   ],
   "source": [
    "series = pd.Series([\"USSR\", \"USA\", \"France\", \"Spain\", \"Colombia\"])\n",
    "series = series[[0, 1]]\n",
    "print(series)"
   ]
  },
  {
   "cell_type": "code",
   "execution_count": 39,
   "metadata": {},
   "outputs": [
    {
     "name": "stdout",
     "output_type": "stream",
     "text": [
      "a    5\n",
      "c    7\n",
      "d    8\n",
      "dtype: int64\n"
     ]
    }
   ],
   "source": [
    "series = pd.Series({'a': 5, 'b': 6, 'c': 7, 'd': 8})\n",
    "series = series[['a', 'c', 'd']]\n",
    "print(series)"
   ]
  },
  {
   "cell_type": "code",
   "execution_count": 54,
   "metadata": {},
   "outputs": [
    {
     "name": "stdout",
     "output_type": "stream",
     "text": [
      "Index(['a', 'c', 'd'], dtype='object')\n",
      "[5 7 8]\n"
     ]
    }
   ],
   "source": [
    "print(series.index)\n",
    "print(series.values)"
   ]
  },
  {
   "cell_type": "markdown",
   "metadata": {},
   "source": [
    "### Dataframe type"
   ]
  },
  {
   "cell_type": "code",
   "execution_count": null,
   "metadata": {},
   "outputs": [],
   "source": [
    "countries = pd.read_json(json_path)\n",
    "print(countries)"
   ]
  },
  {
   "cell_type": "code",
   "execution_count": null,
   "metadata": {},
   "outputs": [],
   "source": []
  }
 ],
 "metadata": {
  "kernelspec": {
   "display_name": "Python 3",
   "language": "python",
   "name": "python3"
  },
  "language_info": {
   "codemirror_mode": {
    "name": "ipython",
    "version": 3
   },
   "file_extension": ".py",
   "mimetype": "text/x-python",
   "name": "python",
   "nbconvert_exporter": "python",
   "pygments_lexer": "ipython3",
   "version": "3.11.4"
  }
 },
 "nbformat": 4,
 "nbformat_minor": 2
}
